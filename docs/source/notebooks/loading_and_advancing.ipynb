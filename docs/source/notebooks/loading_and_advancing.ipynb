{
 "cells": [
  {
   "cell_type": "code",
   "execution_count": 1,
   "metadata": {},
   "outputs": [],
   "source": [
    "import clustertools as ctools\n",
    "import numpy as np"
   ]
  },
  {
   "cell_type": "markdown",
   "metadata": {},
   "source": [
    "# Loading and Advancing"
   ]
  },
  {
   "cell_type": "markdown",
   "metadata": {},
   "source": [
    "# Loading\n"
   ]
  },
  {
   "cell_type": "markdown",
   "metadata": {},
   "source": [
    "To manually load a snapshot of a cluster, simply read in the file via your preferred method, declare a StarCluster with the appropriate units and origin, and add stars. For example, consider a snapshot of a star cluster in a file named 00000.dat with columns of stellar mass, position (x,y,z) in pc , and velocity (vx,vy,vz) in km/s. The origin of the system is the cluster's centre. A StarCluster can be initialized via:"
   ]
  },
  {
   "cell_type": "code",
   "execution_count": 2,
   "metadata": {},
   "outputs": [],
   "source": [
    "m,x,y,z,vx,vy,vz=np.loadtxt('00000.dat',unpack=True)\n",
    "cluster=ctools.StarCluster(units='pckms',origin='cluster')\n",
    "cluster.add_stars(x,y,z,vx,vy,vz,m)"
   ]
  },
  {
   "cell_type": "markdown",
   "metadata": {},
   "source": [
    "When manually setting up a cluster, key cluster parameters will not be calculated unless the function ``key_params()`` is called. Similarly, calculations that require the stars to be ordered by distance from the cluster's centre are not calculated unless one sets the ``do_order`` flag. "
   ]
  },
  {
   "cell_type": "code",
   "execution_count": 3,
   "metadata": {},
   "outputs": [],
   "source": [
    "cluster.key_params(do_order=True)"
   ]
  },
  {
   "cell_type": "code",
   "execution_count": 4,
   "metadata": {},
   "outputs": [
    {
     "name": "stdout",
     "output_type": "stream",
     "text": [
      "Total Number of Stars =  1000\n",
      "Total Mass =  349.28177634\n",
      "Mean Mass =  0.34928177634\n",
      "Mean Radius =  2.45102483757\n",
      "Maximum Radius =  8.32425911109\n",
      "Half-mass radius =  1.96178691294\n",
      "Projected Half-mass radius =  1.50302785137\n",
      "10% Lagrange radius =  0.733265989776\n",
      "Projected 10% Lagrange radius =  0.490977522097\n"
     ]
    }
   ],
   "source": [
    "print('Total Number of Stars = ',cluster.ntot)\n",
    "print('Total Mass = ',cluster.mtot)\n",
    "print('Mean Mass = ',cluster.mmean)\n",
    "print('Mean Radius = ',cluster.rmean)\n",
    "print('Maximum Radius = ',cluster.rmax)\n",
    "print('Half-mass radius = ',cluster.rm)\n",
    "print('Projected Half-mass radius = ',cluster.rmpro)\n",
    "print('10% Lagrange radius = ',cluster.r10)\n",
    "print('Projected 10% Lagrange radius = ',cluster.r10pro)"
   ]
  },
  {
   "cell_type": "markdown",
   "metadata": {},
   "source": [
    "Alternatively, several functions have been written to more easily load a snapshot of a cluster.  For example, snapshot 00000.dat could more easily be loaded via:"
   ]
  },
  {
   "cell_type": "code",
   "execution_count": 5,
   "metadata": {},
   "outputs": [],
   "source": [
    "cluster=ctools.load_cluster('snapshot',filename='00000.dat',units='pckms',origin='cluster')"
   ]
  },
  {
   "cell_type": "markdown",
   "metadata": {},
   "source": [
    "When using load_cluster, key cluster parameters are instantly calculated."
   ]
  },
  {
   "cell_type": "code",
   "execution_count": 6,
   "metadata": {},
   "outputs": [
    {
     "name": "stdout",
     "output_type": "stream",
     "text": [
      "Total Number of Stars =  1000\n",
      "Total Mass =  349.28177634\n",
      "Mean Mass =  0.34928177634\n",
      "Mean Radius =  2.46448430701\n",
      "Maximum Radius =  8.47641756979\n",
      "Half-mass radius =  1.94950947706\n",
      "Projected Half-mass radius =  1.51415254024\n",
      "10% Lagrange radius =  0.700050232243\n",
      "Projected 10% Lagrange radius =  0.451505659588\n"
     ]
    }
   ],
   "source": [
    "print('Total Number of Stars = ',cluster.ntot)\n",
    "print('Total Mass = ',cluster.mtot)\n",
    "print('Mean Mass = ',cluster.mmean)\n",
    "print('Mean Radius = ',cluster.rmean)\n",
    "print('Maximum Radius = ',cluster.rmax)\n",
    "print('Half-mass radius = ',cluster.rm)\n",
    "print('Projected Half-mass radius = ',cluster.rmpro)\n",
    "print('10% Lagrange radius = ',cluster.r10)\n",
    "print('Projected 10% Lagrange radius = ',cluster.r10pro)\n"
   ]
  },
  {
   "cell_type": "markdown",
   "metadata": {},
   "source": [
    "If the columns in your snapshot do not have the format mass,x,y,z,vx,vy,vz,i_d,kw, then use ``col_names`` and ``col_nums`` when using ``load_cluster``"
   ]
  },
  {
   "cell_type": "code",
   "execution_count": 7,
   "metadata": {},
   "outputs": [],
   "source": [
    "cluster=ctools.load_cluster('snapshot',filename='00000.dat',units='pckms',origin='cluster',\n",
    "                            col_names=[\"m\", \"x\", \"y\", \"z\", \"vx\", \"vy\", \"vz\"],col_nums=[0, 1, 2, 3, 4, 5, 6],)"
   ]
  },
  {
   "cell_type": "markdown",
   "metadata": {},
   "source": [
    "If the orbital information of your simulated cluster is known, and is contained in a file with columns of time, x, y, z, vx, vy, vz then either the filename can be given to the ``load_cluster`` command using the ``ofilename`` flag or it can be read in and added separately. If the units in ``orbit.dat`` are not the same as ``cluster.units``, one can use the ``ounits`` flag in ``add_orbit``. They will be converted to cluster.units."
   ]
  },
  {
   "cell_type": "code",
   "execution_count": 8,
   "metadata": {},
   "outputs": [
    {
     "name": "stdout",
     "output_type": "stream",
     "text": [
      "[  0.  10.] [ 10000.      0.] [     0.  10000.] [ 0.  0.] [   0.  220.] [ 220.    0.] [ 0.  0.]\n"
     ]
    }
   ],
   "source": [
    "t,xgc,ygc,zgc,vxgc,vygc,vzgc=np.loadtxt('orbit.dat',unpack=True)\n",
    "cluster.tphys=t\n",
    "cluster.add_orbit(xgc,ygc,zgc,vxgc,vygc,vzgc,ounits='kpckms')\n",
    "print(cluster.tphys,cluster.xgc,cluster.ygc,cluster.zgc,cluster.vxgc,cluster.vygc,cluster.vzgc)"
   ]
  },
  {
   "cell_type": "markdown",
   "metadata": {},
   "source": [
    "Functions have also been written to automatically load snapshots from the commonly used codes NBODY6 and gyrfalcon. To load an NBODY6 snapshot from OUT34 and OUT9:"
   ]
  },
  {
   "cell_type": "code",
   "execution_count": 9,
   "metadata": {},
   "outputs": [
    {
     "ename": "FileNotFoundError",
     "evalue": "[Errno 2] No such file or directory: './OUT34'",
     "output_type": "error",
     "traceback": [
      "\u001b[0;31m---------------------------------------------------------------------------\u001b[0m",
      "\u001b[0;31mFileNotFoundError\u001b[0m                         Traceback (most recent call last)",
      "\u001b[0;32m<ipython-input-9-4e4ede014f6c>\u001b[0m in \u001b[0;36m<module>\u001b[0;34m\u001b[0m\n\u001b[0;32m----> 1\u001b[0;31m \u001b[0mcluster\u001b[0m\u001b[0;34m=\u001b[0m\u001b[0mctools\u001b[0m\u001b[0;34m.\u001b[0m\u001b[0mload_cluster\u001b[0m\u001b[0;34m(\u001b[0m\u001b[0;34m'nbody6'\u001b[0m\u001b[0;34m)\u001b[0m\u001b[0;34m\u001b[0m\u001b[0;34m\u001b[0m\u001b[0m\n\u001b[0m",
      "\u001b[0;32m~/Codes/clustertools/clustertools/analysis/load.py\u001b[0m in \u001b[0;36mload_cluster\u001b[0;34m(ctype, particles, custom_override, units, origin, ofile, orbit, filename, **kwargs)\u001b[0m\n\u001b[1;32m    113\u001b[0m         \u001b[0;32melse\u001b[0m\u001b[0;34m:\u001b[0m\u001b[0;34m\u001b[0m\u001b[0;34m\u001b[0m\u001b[0m\n\u001b[1;32m    114\u001b[0m             \u001b[0mout9\u001b[0m \u001b[0;34m=\u001b[0m \u001b[0;32mNone\u001b[0m\u001b[0;34m\u001b[0m\u001b[0;34m\u001b[0m\u001b[0m\n\u001b[0;32m--> 115\u001b[0;31m         \u001b[0mout34\u001b[0m \u001b[0;34m=\u001b[0m \u001b[0mopen\u001b[0m\u001b[0;34m(\u001b[0m\u001b[0;34m\"%sOUT34\"\u001b[0m \u001b[0;34m%\u001b[0m \u001b[0mwdir\u001b[0m\u001b[0;34m,\u001b[0m \u001b[0;34m\"r\"\u001b[0m\u001b[0;34m)\u001b[0m\u001b[0;34m\u001b[0m\u001b[0;34m\u001b[0m\u001b[0m\n\u001b[0m\u001b[1;32m    116\u001b[0m \u001b[0;34m\u001b[0m\u001b[0m\n\u001b[1;32m    117\u001b[0m         \u001b[0;32mif\u001b[0m \u001b[0mcustom_override\u001b[0m\u001b[0;34m:\u001b[0m\u001b[0;34m\u001b[0m\u001b[0;34m\u001b[0m\u001b[0m\n",
      "\u001b[0;31mFileNotFoundError\u001b[0m: [Errno 2] No such file or directory: './OUT34'"
     ]
    }
   ],
   "source": [
    "cluster=ctools.load_cluster('nbody6')"
   ]
  },
  {
   "cell_type": "markdown",
   "metadata": {},
   "source": [
    "``clustertools`` knows that when reading in NBODY6 snapshots, the units will be ``'nbody'`` units and the origin will be ``'cluster'``."
   ]
  },
  {
   "cell_type": "markdown",
   "metadata": {},
   "source": [
    "For an NBODY6 simulation with stellar evolution, the first snapshot can be read in from fort.82 and fort.83 via:"
   ]
  },
  {
   "cell_type": "code",
   "execution_count": null,
   "metadata": {},
   "outputs": [],
   "source": [
    "cluster=ctools.load_cluster('nbody6se')"
   ]
  },
  {
   "cell_type": "markdown",
   "metadata": {},
   "source": [
    "Finally, for a gyrfalcon simulation. the first cluster snapshot can be read in using:"
   ]
  },
  {
   "cell_type": "code",
   "execution_count": null,
   "metadata": {},
   "outputs": [],
   "source": [
    "cluster=ctools.load_cluster('gyrfalcon',filename='cluster.nemo.dat')"
   ]
  },
  {
   "cell_type": "markdown",
   "metadata": {},
   "source": [
    "Note that since gyrfalcon does not have a default output filename like NBODY6, the filename must be specifified. Furthermore, gyrfalcon's output is a binary file that must be converted to ascii using NEMO's ``s2a`` command before it can be read in by ``clustertools``."
   ]
  },
  {
   "cell_type": "markdown",
   "metadata": {},
   "source": [
    "# Advancing"
   ]
  },
  {
   "cell_type": "markdown",
   "metadata": {},
   "source": [
    "In most cases, it is desirable to read more than just the first timestep of a simulation. ``clustertools`` has been set up to easily read in a snapshot, calculate key cluster parameters, and then advance to the next snapshot. An advance can easily be done using:"
   ]
  },
  {
   "cell_type": "code",
   "execution_count": null,
   "metadata": {},
   "outputs": [],
   "source": [
    "cluster=ctools.load_cluster('snapshot',filename='00000.dat',units='pckms',origin='cluster')\n",
    "print(cluster.rm,cluster.mtot)\n",
    "cluster=ctools.advance_cluster(cluster)\n",
    "print(cluster.rm,cluster.mtot)\n"
   ]
  },
  {
   "cell_type": "markdown",
   "metadata": {},
   "source": [
    "For the case above where the first snapshot had a filename of 00000.dat, ``advance_cluster`` will look for a filename titled 00001.dat. If your filenames have a different naming convention, just specify some of the keyword arguments when loading the first snapshot. For example, if your snapshots are named snap_cluster_001.txt and snap_cluster_002.txt, they can be loaded via:"
   ]
  },
  {
   "cell_type": "code",
   "execution_count": null,
   "metadata": {},
   "outputs": [],
   "source": [
    "cluster=ctools.load_cluster('snapshot',nsnap=1,nzfill=3,snapbase='snap_cluster_',snapend='.txt',units='pckms',origin='cluster')\n",
    "print(cluster.rm,cluster.mtot)\n",
    "cluster=ctools.advance_cluster(cluster)\n",
    "print(cluster.rm,cluster.mtot)\n"
   ]
  },
  {
   "cell_type": "code",
   "execution_count": null,
   "metadata": {},
   "outputs": [],
   "source": []
  }
 ],
 "metadata": {
  "celltoolbar": "Edit Metadata",
  "kernelspec": {
   "display_name": "Python 3",
   "language": "python",
   "name": "python3"
  },
  "language_info": {
   "codemirror_mode": {
    "name": "ipython",
    "version": 3
   },
   "file_extension": ".py",
   "mimetype": "text/x-python",
   "name": "python",
   "nbconvert_exporter": "python",
   "pygments_lexer": "ipython3",
   "version": "3.7.4"
  },
  "toc": {
   "base_numbering": 1,
   "nav_menu": {},
   "number_sections": true,
   "sideBar": true,
   "skip_h1_title": false,
   "title_cell": "Table of Contents",
   "title_sidebar": "Contents",
   "toc_cell": false,
   "toc_position": {},
   "toc_section_display": true,
   "toc_window_display": false
  }
 },
 "nbformat": 4,
 "nbformat_minor": 4
}
