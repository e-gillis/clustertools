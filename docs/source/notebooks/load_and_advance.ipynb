{
 "cells": [
  {
   "cell_type": "code",
   "execution_count": 1,
   "metadata": {},
   "outputs": [],
   "source": [
    "import clustertools as ctools\n",
    "import numpy as np"
   ]
  },
  {
   "cell_type": "markdown",
   "metadata": {},
   "source": [
    "# Loading and Advancing"
   ]
  },
  {
   "cell_type": "markdown",
   "metadata": {},
   "source": [
    "To manually load a snapshot of a cluster, simply read in the file via your preferred method, declare a StarCluster with the appropriate units and origin, and add stars. For example, consider a snapshot of a star cluster in a file named 00000.dat with columns of stellar mass, position (x,y,z) in pc ,velocity (vx,vy,vz) in km/s, stellar id, and stellar evolution type (kw). The origin of the system is the cluster's centre. A StarCluster can be initialized via:"
   ]
  },
  {
   "cell_type": "code",
   "execution_count": 2,
   "metadata": {},
   "outputs": [],
   "source": [
    "m,x,y,z,vx,vy,vz,i_d,kw=np.loadtxt('00000.dat',unpack=True)\n",
    "cluster=ctools.StarCluster(units='pckms',origin='cluster')\n",
    "cluster.add_stars(x,y,z,vx,vy,vz,m,i_d)\n",
    "cluster.kw=kw"
   ]
  },
  {
   "cell_type": "markdown",
   "metadata": {},
   "source": [
    "When manually setting up a cluster, key cluster parameters will not be calculated unless the function ``key_params()`` is called. Similarly, calculations that require the stars to be ordered by distance from the cluster's centre are not calculated unless one sets the ``do_order`` flag. "
   ]
  },
  {
   "cell_type": "code",
   "execution_count": 3,
   "metadata": {},
   "outputs": [],
   "source": [
    "cluster.key_params(do_order=True)"
   ]
  },
  {
   "cell_type": "code",
   "execution_count": 4,
   "metadata": {},
   "outputs": [
    {
     "name": "stdout",
     "output_type": "stream",
     "text": [
      "Total Number of Stars =  1000\n",
      "Total Mass =  349.28177634\n",
      "Mean Mass =  0.34928177634\n",
      "Mean Radius =  2.45102483757\n",
      "Maximum Radius =  8.32425911109\n",
      "Half-mass radius =  1.96178691294\n",
      "Projected Half-mass radius =  1.50302785137\n",
      "10% Lagrange radius =  0.733265989776\n",
      "Projected 10% Lagrange radius =  0.490977522097\n"
     ]
    }
   ],
   "source": [
    "print('Total Number of Stars = ',cluster.ntot)\n",
    "print('Total Mass = ',cluster.mtot)\n",
    "print('Mean Mass = ',cluster.mmean)\n",
    "print('Mean Radius = ',cluster.rmean)\n",
    "print('Maximum Radius = ',cluster.rmax)\n",
    "print('Half-mass radius = ',cluster.rm)\n",
    "print('Projected Half-mass radius = ',cluster.rmpro)\n",
    "print('10% Lagrange radius = ',cluster.r10)\n",
    "print('Projected 10% Lagrange radius = ',cluster.r10pro)"
   ]
  },
  {
   "cell_type": "markdown",
   "metadata": {},
   "source": [
    "Alternatively, several functions have been written to more easily load a snapshot of a cluster.  For example, snapshot 00000.dat could more easily be loaded via:"
   ]
  },
  {
   "cell_type": "code",
   "execution_count": 5,
   "metadata": {},
   "outputs": [],
   "source": [
    "cluster=ctools.load_cluster('snapshot',filename='00000.dat',units='pckms',origin='cluster')"
   ]
  },
  {
   "cell_type": "markdown",
   "metadata": {},
   "source": [
    "When using load_cluster, key cluster parameters are instantly calculated."
   ]
  },
  {
   "cell_type": "code",
   "execution_count": 6,
   "metadata": {},
   "outputs": [
    {
     "name": "stdout",
     "output_type": "stream",
     "text": [
      "Total Number of Stars =  1000\n",
      "Total Mass =  349.28177634\n",
      "Mean Mass =  0.34928177634\n",
      "Mean Radius =  2.46448430701\n",
      "Maximum Radius =  8.47641756979\n",
      "Half-mass radius =  1.94950947706\n",
      "Projected Half-mass radius =  1.51415254024\n",
      "10% Lagrange radius =  0.700050232243\n",
      "Projected 10% Lagrange radius =  0.451505659588\n"
     ]
    }
   ],
   "source": [
    "print('Total Number of Stars = ',cluster.ntot)\n",
    "print('Total Mass = ',cluster.mtot)\n",
    "print('Mean Mass = ',cluster.mmean)\n",
    "print('Mean Radius = ',cluster.rmean)\n",
    "print('Maximum Radius = ',cluster.rmax)\n",
    "print('Half-mass radius = ',cluster.rm)\n",
    "print('Projected Half-mass radius = ',cluster.rmpro)\n",
    "print('10% Lagrange radius = ',cluster.r10)\n",
    "print('Projected 10% Lagrange radius = ',cluster.r10pro)\n"
   ]
  },
  {
   "cell_type": "markdown",
   "metadata": {},
   "source": [
    "If the columns in your snapshot do not have the format mass,x,y,z,vx,vy,vz,i_d,kw, then use ``col_names`` and ``col_nums`` when using ``load_cluster``"
   ]
  },
  {
   "cell_type": "code",
   "execution_count": 8,
   "metadata": {},
   "outputs": [],
   "source": [
    "cluster=ctools.load_cluster('snapshot',filename='00000.dat',units='pckms',origin='cluster',\n",
    "                            col_names=[\"m\", \"x\", \"y\", \"z\", \"vx\", \"vy\", \"vz\"],col_nums=[0, 1, 2, 3, 4, 5, 6],)"
   ]
  },
  {
   "cell_type": "markdown",
   "metadata": {},
   "source": [
    "Functions have also been written to automatically load snapshots from the commonly used codes NBODY6 and gyrfalcon. "
   ]
  },
  {
   "cell_type": "code",
   "execution_count": 9,
   "metadata": {},
   "outputs": [],
   "source": [
    "#To be continued"
   ]
  },
  {
   "cell_type": "code",
   "execution_count": null,
   "metadata": {},
   "outputs": [],
   "source": []
  }
 ],
 "metadata": {
  "celltoolbar": "Edit Metadata",
  "kernelspec": {
   "display_name": "Python 3",
   "language": "python",
   "name": "python3"
  },
  "language_info": {
   "codemirror_mode": {
    "name": "ipython",
    "version": 3
   },
   "file_extension": ".py",
   "mimetype": "text/x-python",
   "name": "python",
   "nbconvert_exporter": "python",
   "pygments_lexer": "ipython3",
   "version": "3.7.4"
  },
  "toc": {
   "base_numbering": 1,
   "nav_menu": {},
   "number_sections": true,
   "sideBar": true,
   "skip_h1_title": false,
   "title_cell": "Table of Contents",
   "title_sidebar": "Contents",
   "toc_cell": false,
   "toc_position": {},
   "toc_section_display": true,
   "toc_window_display": false
  }
 },
 "nbformat": 4,
 "nbformat_minor": 4
}
