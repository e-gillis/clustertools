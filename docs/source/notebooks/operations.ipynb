{
 "cells": [
  {
   "cell_type": "code",
   "execution_count": 1,
   "metadata": {},
   "outputs": [
    {
     "name": "stdout",
     "output_type": "stream",
     "text": [
      "/Users/webbjere/Codes/galpy/galpy/util/bovy_coords.py:6: FutureWarning: galpy.util.bovy_coords is being deprecated in favor of galpy.util.coords; all functions in there are the same; please switch to the new import, because the old import will be removed in v1.9\n",
      "  warnings.warn('galpy.util.bovy_coords is being deprecated in favor of galpy.util.coords; all functions in there are the same; please switch to the new import, because the old import will be removed in v1.9',FutureWarning)\n",
      "\n",
      "/Users/webbjere/Codes/galpy/galpy/util/bovy_conversion.py:6: FutureWarning: galpy.util.bovy_conversion is being deprecated in favor of galpy.util.conversion; all functions in there are the same; please switch to the new import, because the old import will be removed in v1.9\n",
      "  warnings.warn('galpy.util.bovy_conversion is being deprecated in favor of galpy.util.conversion; all functions in there are the same; please switch to the new import, because the old import will be removed in v1.9',FutureWarning)\n",
      "\n"
     ]
    }
   ],
   "source": [
    "import clustertools as ctools\n",
    "import numpy as np"
   ]
  },
  {
   "cell_type": "markdown",
   "metadata": {},
   "source": [
    "# Operations"
   ]
  },
  {
   "cell_type": "markdown",
   "metadata": {},
   "source": [
    "First load a snapshot of a cluster in file 00000.dat, which has position units of pc and velocity units of km/s in clustercentric coordinates. Stellar masses are in solar units and were generated using a Salpeter IMF."
   ]
  },
  {
   "cell_type": "code",
   "execution_count": 2,
   "metadata": {},
   "outputs": [
    {
     "name": "stdout",
     "output_type": "stream",
     "text": [
      "0.0 False\n"
     ]
    }
   ],
   "source": [
    "cluster=ctools.load_cluster('snapshot',filename='00000.dat',units='pckms',origin='cluster',ofilename='orbit.dat',ounits='kpckms')"
   ]
  },
  {
   "cell_type": "markdown",
   "metadata": {},
   "source": [
    "When using ``load_cluster``, key parameters like the total mass and the half-mass radius of the cluster are automatically calculated:"
   ]
  },
  {
   "cell_type": "markdown",
   "metadata": {},
   "source": [
    "Once initialized, the units and coordinate system of the cluster can easily be changed. Unit changes will affect the positions and velocities of stars, the location of the cluster's centre of density, and the cluster itself if its galactocentric coordinates are known. To save computational time, key parameters like the total mass, mean radius and half-mass radius are NOT automatically recalculated unless ``do_key_params=True``. Any other previoulsy calculated values will remain in their initial units. For example, lets compare two methods for calculating the mean radius and two methods of calculating the half mass radius:"
   ]
  },
  {
   "cell_type": "code",
   "execution_count": 3,
   "metadata": {},
   "outputs": [
    {
     "name": "stdout",
     "output_type": "stream",
     "text": [
      "Mean radius with numpy = 2.4510248375725765\n",
      "Mean radius = 2.4510248375725765\n",
      "Half mass radius = 1.961786912943431\n",
      "50% Lagrange Radius =  1.961786912943431\n"
     ]
    }
   ],
   "source": [
    "print('Mean radius with numpy =', np.mean(cluster.r))\n",
    "print('Mean radius =', cluster.rmean)\n",
    "\n",
    "print('Half mass radius =', cluster.rm)\n",
    "\n",
    "cluster.rlagrange()\n",
    "print('50% Lagrange Radius = ',cluster.rn[4])\n"
   ]
  },
  {
   "cell_type": "markdown",
   "metadata": {},
   "source": [
    "As expected, both methods yield the exact same results. Since ``cluster.units`` currently eqauls ``'pckms``, radii are in parsecs. We can then convert to ``'kpckms'``:"
   ]
  },
  {
   "cell_type": "code",
   "execution_count": 4,
   "metadata": {},
   "outputs": [],
   "source": [
    "cluster.to_kpckms()"
   ]
  },
  {
   "cell_type": "markdown",
   "metadata": {},
   "source": [
    "Since coordinates are changed to ``'kpckms'``, stellar radii will all be changed. Hence calculating the mean radius with numpy will yield the result in kpc. However, if ``key_params`` is not called again then ``cluster.rmean`` and ``cluster.rm`` retain their initial values. Similarly ``cluster.rn`` won't change unless ``cluster.rlagrange()`` is called:"
   ]
  },
  {
   "cell_type": "code",
   "execution_count": 5,
   "metadata": {},
   "outputs": [
    {
     "name": "stdout",
     "output_type": "stream",
     "text": [
      "Mean radius with numpy =  0.002451024837572576\n",
      "Mean radius with clustertools =  0.002451024837572576\n",
      "Half mass radius = 0.001961786912943431\n",
      "50% Lagrange Radius =  1.961786912943431\n"
     ]
    }
   ],
   "source": [
    "print('Mean radius with numpy = ',np.mean(cluster.r))\n",
    "print('Mean radius with clustertools = ',cluster.rmean)\n",
    "print('Half mass radius =', cluster.rm)\n",
    "print('50% Lagrange Radius = ',cluster.rn[4])\n"
   ]
  },
  {
   "cell_type": "markdown",
   "metadata": {},
   "source": [
    "To change the units of key parameters, you must set ``do_key_params=True`` when doing a unit change. The only way to update the units of ``cluster.rn`` is to calculate the lagrange radii again."
   ]
  },
  {
   "cell_type": "code",
   "execution_count": 6,
   "metadata": {},
   "outputs": [
    {
     "name": "stdout",
     "output_type": "stream",
     "text": [
      "Mean radius with numpy =  0.002451024837572576\n",
      "Mean radius with clustertools =  0.002451024837572576\n",
      "Half mass radius = 0.001961786912943431\n",
      "50% Lagrange Radius =  0.001961786912943431\n"
     ]
    }
   ],
   "source": [
    "cluster.to_kpckms()\n",
    "print('Mean radius with numpy = ',np.mean(cluster.r))\n",
    "print('Mean radius with clustertools = ',cluster.rmean)\n",
    "\n",
    "print('Half mass radius =', cluster.rm)\n",
    "cluster.rlagrange()\n",
    "print('50% Lagrange Radius = ',cluster.rn[4])"
   ]
  },
  {
   "cell_type": "markdown",
   "metadata": {},
   "source": [
    "Other unit systems include ``galpy`` and ``nbodydy``. For the latter, most of the time a dataset is given in N-body units and then converted to physical units. However if you wish to convert to Nbody units, the scaling factors for masses, positions, velocities and time must be determined. This can be done via:"
   ]
  },
  {
   "cell_type": "code",
   "execution_count": 7,
   "metadata": {},
   "outputs": [
    {
     "name": "stdout",
     "output_type": "stream",
     "text": [
      "MASS SCALING:  349.28177633974826\n",
      "POSITION SCALING:  2.6157158839245747\n",
      "VELOCITY SCALING:  0.7577010034035548\n",
      "TIME SCALING:  3.452174237825884\n"
     ]
    }
   ],
   "source": [
    "cluster.reset_nbody_scale()\n",
    "print('MASS SCALING: ',cluster.zmbar)\n",
    "print('POSITION SCALING: ',cluster.rbar)\n",
    "print('VELOCITY SCALING: ',cluster.vbar)\n",
    "print('TIME SCALING: ',cluster.tbar)"
   ]
  },
  {
   "cell_type": "markdown",
   "metadata": {},
   "source": [
    "Note that the default way of finding the position scaling is to set ``cluster.rbar`` equal to 4/3 the half-mass radius. For a more accurate calculate, set ``rvirial=True`` so the cluster can be scaled to a virial radius of 1."
   ]
  },
  {
   "cell_type": "code",
   "execution_count": 8,
   "metadata": {},
   "outputs": [
    {
     "name": "stdout",
     "output_type": "stream",
     "text": [
      "MASS SCALING:  349.28177633974826\n",
      "POSITION SCALING:  2.519377147061016\n"
     ]
    },
    {
     "ename": "AttributeError",
     "evalue": "'StarCluster' object has no attribute 'vstar'",
     "output_type": "error",
     "traceback": [
      "\u001b[0;31m---------------------------------------------------------------------------\u001b[0m",
      "\u001b[0;31mAttributeError\u001b[0m                            Traceback (most recent call last)",
      "\u001b[0;32m<ipython-input-8-379ce093725b>\u001b[0m in \u001b[0;36m<module>\u001b[0;34m\u001b[0m\n\u001b[1;32m      2\u001b[0m \u001b[0mprint\u001b[0m\u001b[0;34m(\u001b[0m\u001b[0;34m'MASS SCALING: '\u001b[0m\u001b[0;34m,\u001b[0m\u001b[0mcluster\u001b[0m\u001b[0;34m.\u001b[0m\u001b[0mzmbar\u001b[0m\u001b[0;34m)\u001b[0m\u001b[0;34m\u001b[0m\u001b[0;34m\u001b[0m\u001b[0m\n\u001b[1;32m      3\u001b[0m \u001b[0mprint\u001b[0m\u001b[0;34m(\u001b[0m\u001b[0;34m'POSITION SCALING: '\u001b[0m\u001b[0;34m,\u001b[0m\u001b[0mcluster\u001b[0m\u001b[0;34m.\u001b[0m\u001b[0mrbar\u001b[0m\u001b[0;34m)\u001b[0m\u001b[0;34m\u001b[0m\u001b[0;34m\u001b[0m\u001b[0m\n\u001b[0;32m----> 4\u001b[0;31m \u001b[0mprint\u001b[0m\u001b[0;34m(\u001b[0m\u001b[0;34m'VELOCITY SCALING: '\u001b[0m\u001b[0;34m,\u001b[0m\u001b[0mcluster\u001b[0m\u001b[0;34m.\u001b[0m\u001b[0mvstar\u001b[0m\u001b[0;34m)\u001b[0m\u001b[0;34m\u001b[0m\u001b[0;34m\u001b[0m\u001b[0m\n\u001b[0m\u001b[1;32m      5\u001b[0m \u001b[0mprint\u001b[0m\u001b[0;34m(\u001b[0m\u001b[0;34m'TIME SCALING: '\u001b[0m\u001b[0;34m,\u001b[0m\u001b[0mcluster\u001b[0m\u001b[0;34m.\u001b[0m\u001b[0mtbar\u001b[0m\u001b[0;34m)\u001b[0m\u001b[0;34m\u001b[0m\u001b[0;34m\u001b[0m\u001b[0m\n",
      "\u001b[0;31mAttributeError\u001b[0m: 'StarCluster' object has no attribute 'vstar'"
     ]
    }
   ],
   "source": [
    "cluster.reset_nbody_scale(rvirial=True)\n",
    "print('MASS SCALING: ',cluster.zmbar)\n",
    "print('POSITION SCALING: ',cluster.rbar)\n",
    "print('VELOCITY SCALING: ',cluster.vstar)\n",
    "print('TIME SCALING: ',cluster.tbar)"
   ]
  },
  {
   "cell_type": "markdown",
   "metadata": {},
   "source": [
    "Once the Nbody scaling factors have been determined, one can convert to NBODY units to make caluclations"
   ]
  },
  {
   "cell_type": "code",
   "execution_count": null,
   "metadata": {},
   "outputs": [],
   "source": [
    "cluster.to_nbody()\n",
    "ctools.starplot(cluster)"
   ]
  },
  {
   "cell_type": "markdown",
   "metadata": {},
   "source": [
    "Similar to changing units, changing coordinate systems will not recalculate key parameters or variables set in previous function calls unless ``do_key_params=True``. The latter will likely only need to be set if moving between the ``cluster`` and ``centre`` origins. It would be rare that one wants to know the order of stars with respect to the Galactic centre when ``origin='galaxy'``. "
   ]
  },
  {
   "cell_type": "markdown",
   "metadata": {},
   "source": [
    "For example, to view your cluster in the galaxy's reference frame and calculate values in kpc:"
   ]
  },
  {
   "cell_type": "code",
   "execution_count": null,
   "metadata": {},
   "outputs": [],
   "source": [
    "cluster.to_kpckms()\n",
    "cluster.to_galaxy()"
   ]
  },
  {
   "cell_type": "code",
   "execution_count": null,
   "metadata": {},
   "outputs": [],
   "source": [
    "print('Mean radius with numpy = ',np.mean(cluster.r))\n",
    "print('Mean radius with clustertools = ',cluster.rmean)\n",
    "print('Half mass radius =', cluster.rm)\n",
    "print('50% Lagrange Radius = ',cluster.rn[4])\n",
    "\n",
    "ctools.starplot(cluster)"
   ]
  },
  {
   "cell_type": "markdown",
   "metadata": {},
   "source": [
    "Note that the mean radius, when calculated using numpy, is approximately 10 kpc which is the orbital distance of the cluster. However, since the ``do_key_params`` call was done before the change of coordinates and the stars have not been reordered ``cluster.rmean``, ``cluster.rm`` and ``cluster.rn`` are the same as before (just in units of kpc). If I instead set ``do_key_params=True`` when moving to the galaxy coordinate system, everything is recalculated:"
   ]
  },
  {
   "cell_type": "code",
   "execution_count": null,
   "metadata": {},
   "outputs": [],
   "source": [
    "cluster.to_galaxy()"
   ]
  },
  {
   "cell_type": "code",
   "execution_count": null,
   "metadata": {},
   "outputs": [],
   "source": [
    "print('Mean radius with numpy = ',np.mean(cluster.r))\n",
    "print('Mean radius with clustertools = ',cluster.rmean)\n",
    "print('Half mass radius =', cluster.rm)\n",
    "print('50% Lagrange Radius = ',cluster.rn[4])\n",
    "\n",
    "ctools.starplot(cluster)"
   ]
  },
  {
   "cell_type": "markdown",
   "metadata": {},
   "source": [
    "Two functions worth noting are ``save_cluster`` and ``return_cluster``. ``save_cluster`` will return the current units and origin of your cluster, so you can then i) change units/coordinate systems, ii) make calculates, and then return your cluster to its original state using ``return_cluster``.\n",
    "\n",
    "For example, with the above cluster having ``units='kpckms'`` and ``origin='galaxy'``, one may wish to switch to the clustercentric frame of reference to calculate the half-mass radius:"
   ]
  },
  {
   "cell_type": "code",
   "execution_count": null,
   "metadata": {},
   "outputs": [],
   "source": [
    "#Save Cluster\n",
    "units,origin,rorder,rorder_origin=ctools.save_cluster(cluster)\n",
    "print(units,origin)\n",
    "#Move to clustercentric coordinates\n",
    "cluster.to_cluster()\n",
    "print('Half mass radius = ',cluster.rm)\n",
    "#Move back\n",
    "ctools.return_cluster(cluster,units,origin,rorder,rorder_origin)\n",
    "print(cluster.units,cluster.origin)"
   ]
  },
  {
   "cell_type": "markdown",
   "metadata": {},
   "source": [
    "It is worth noting that if ``cluster.units='galaxy'``, almost all functions will move the cluster to a clustercentric coordinate system or to its centre of density to make calculations and then return it to its original state."
   ]
  },
  {
   "cell_type": "markdown",
   "metadata": {},
   "source": [
    "Finally, two operations that may be helpful when trying to initialize a cluster are ``virialize`` and ``add_rotation``. ``virialize`` will scale all the stellar velocities so the virial parameter is exactly 0.5."
   ]
  },
  {
   "cell_type": "code",
   "execution_count": null,
   "metadata": {},
   "outputs": [],
   "source": [
    "#At the moment, our cluster is not perfectly in virial equilibrium:\n",
    "cluster.energies()\n",
    "print(cluster.qvir)\n",
    "#However it can be scaled such that ``cluster.qvir=-0.5``\n",
    "cluster.virialize()\n",
    "cluster.energies()\n",
    "\n",
    "print('New Qv: ',cluster.qvir)\n"
   ]
  },
  {
   "cell_type": "markdown",
   "metadata": {},
   "source": [
    "Adding rotation will, as the name implies, add a degree of rotation to the cluster. Rotation is added using the ``qrot`` parameter, which will be the fraction of stars with v_phi < 0 that are switched to having vphi > 0. It can be done via:"
   ]
  },
  {
   "cell_type": "code",
   "execution_count": null,
   "metadata": {},
   "outputs": [],
   "source": [
    "#How many stars have vtheta < 0 in the clustercentric coordinate system\n",
    "cluster.to_cluster()\n",
    "r, theta, z, vr, vtheta, vz=ctools.cart_to_cyl(cluster.x,cluster.y,cluster.z,cluster.vx,cluster.vy,cluster.vz)\n",
    "print('Fraction of stars with vtheta<0 =', np.sum(vtheta<0)/cluster.ntot)\n",
    "\n",
    "#Now switch the sign of vtheta for 50% of stars with vtheta<0\n",
    "print('Add rotation of 50%')\n",
    "cluster.add_rotation(qrot=0.5)\n",
    "r, theta, z, vr, vtheta, vz=ctools.cart_to_cyl(cluster.x,cluster.y,cluster.z,cluster.vx,cluster.vy,cluster.vz)\n",
    "print('Now fraction of stars with vtheta<0 =', np.sum(vtheta<0)/cluster.ntot)\n"
   ]
  }
 ],
 "metadata": {
  "celltoolbar": "Edit Metadata",
  "kernelspec": {
   "display_name": "Python 3",
   "language": "python",
   "name": "python3"
  },
  "language_info": {
   "codemirror_mode": {
    "name": "ipython",
    "version": 3
   },
   "file_extension": ".py",
   "mimetype": "text/x-python",
   "name": "python",
   "nbconvert_exporter": "python",
   "pygments_lexer": "ipython3",
   "version": "3.9.1"
  },
  "toc": {
   "base_numbering": 1,
   "nav_menu": {},
   "number_sections": true,
   "sideBar": true,
   "skip_h1_title": false,
   "title_cell": "Table of Contents",
   "title_sidebar": "Contents",
   "toc_cell": false,
   "toc_position": {},
   "toc_section_display": true,
   "toc_window_display": false
  }
 },
 "nbformat": 4,
 "nbformat_minor": 4
}
